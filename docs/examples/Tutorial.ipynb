{
 "cells": [
  {
   "cell_type": "markdown",
   "id": "485cce99-9f0e-4a6e-b53f-238070853c52",
   "metadata": {},
   "source": [
    "# Tutorial\n",
    "\n",
    "In this tutorial, we are creating a database, which interacts with two custom databases:\n",
    "- A CSV data store: InMemoryCSVDB\n",
    "- A RDF metadata store: InMemoryRDFDB\n",
    "Both stores are implemented in this tutorial."
   ]
  },
  {
   "cell_type": "code",
   "execution_count": 1,
   "id": "1d581c24-aad6-464e-9821-4e3da7259e53",
   "metadata": {},
   "outputs": [],
   "source": [
    "#!pip install gldb[tutorial]"
   ]
  },
  {
   "cell_type": "code",
   "execution_count": 2,
   "id": "3646e194-b8fc-43f8-a5ef-52eaf5a82cc8",
   "metadata": {},
   "outputs": [],
   "source": [
    "import gldb\n",
    "\n",
    "from typing import Union, List, Dict\n",
    "import pandas as pd\n",
    "import pathlib\n",
    "import rdflib"
   ]
  },
  {
   "cell_type": "markdown",
   "id": "cad33aff-c339-43cb-8880-7ff037883801",
   "metadata": {},
   "source": [
    "## Data Stores\n",
    "\n",
    "The database shall interact with \"**data stores**\" (here used as a more generic word for database). Through them, data can be accessed (uploaded and queried).\n",
    "\n",
    "They can be databases for raw or metadata.\n",
    "\n",
    "Let's implement the concrete implementations for a CSV and a in-memory-RDF database."
   ]
  },
  {
   "cell_type": "code",
   "execution_count": 3,
   "id": "49656c50-5f65-413f-b859-976bc0951142",
   "metadata": {},
   "outputs": [],
   "source": [
    "class CSVQuery(gldb.query.Query):\n",
    "    \n",
    "    def __init__(self, tables: Dict[str, pd.DataFrame]):\n",
    "        self.tables = tables\n",
    "        \n",
    "    def execute(self, query: Dict, description=None, *args, **kwargs):\n",
    "        table = kwargs.get(\"table\")\n",
    "        return gldb.query.QueryResult(query=self, data=self.tables[table].query(query))"
   ]
  },
  {
   "cell_type": "code",
   "execution_count": 4,
   "id": "6d69ad07-bea7-470a-a093-e46f427b4f01",
   "metadata": {},
   "outputs": [],
   "source": [
    "class CSVDatabase(gldb.stores.DataStore):\n",
    "\n",
    "    def __init__(self, filenames=None):\n",
    "        self._filenames = filenames or []\n",
    "        self.tables = {}\n",
    "\n",
    "    @property\n",
    "    def query(self):\n",
    "        return CSVQuery(self.tables)\n",
    "\n",
    "    def upload_file(self, filename: pathlib.Path) -> bool:\n",
    "        if filename.resolve().absolute() in self._filenames:\n",
    "            return True\n",
    "        self._filenames.append(filename.resolve().absolute())\n",
    "        self.tables[filename.stem] = pd.read_csv(filename)\n",
    "        return True"
   ]
  },
  {
   "cell_type": "code",
   "execution_count": 5,
   "id": "5c302f7a-3be2-4e23-bdaa-2f1cace888ef",
   "metadata": {},
   "outputs": [],
   "source": [
    "class InMemoryRDFDatabase(gldb.stores.RDFStore):\n",
    "\n",
    "    def __init__(self):\n",
    "        self._filenames = []\n",
    "        self._graphs = {}\n",
    "\n",
    "    def upload_file(self, filename: pathlib.Path) -> bool:\n",
    "        self._filenames.append(filename.resolve().absolute())\n",
    "        return True\n",
    "\n",
    "    @property\n",
    "    def graph(self) -> rdflib.Graph:\n",
    "        \"\"\"Return graph for the metadata store.\"\"\"\n",
    "        combined_graph = rdflib.Graph()\n",
    "        for filename in self._filenames:\n",
    "            g = self._graphs.get(filename, None)\n",
    "            if not g:\n",
    "                g = rdflib.Graph()\n",
    "                g.parse(filename)\n",
    "                for s, p, o in g:\n",
    "                    if isinstance(s, rdflib.BNode):\n",
    "                        new_s = rdflib.URIRef(f\"https://example.org/{s}\")\n",
    "                    else:\n",
    "                        new_s = s\n",
    "                    if isinstance(o, rdflib.BNode):\n",
    "                        new_o = rdflib.URIRef(f\"https://example.org/{o}\")\n",
    "                    else:\n",
    "                        new_o = o\n",
    "                    g.remove((s, p, o))\n",
    "                    g.add((new_s, p, new_o))\n",
    "                self._graphs[filename] = g\n",
    "            combined_graph += g\n",
    "        return combined_graph"
   ]
  },
  {
   "cell_type": "markdown",
   "id": "2ba9b830-82ee-4c58-9aae-cd1fbc9c9915",
   "metadata": {},
   "source": [
    "## The Database instance\n",
    "\n",
    "The core implementation concerns the implementation of `GenericLinkedDatabase`:"
   ]
  },
  {
   "cell_type": "code",
   "execution_count": 6,
   "id": "72e6ecec-31d2-44ee-89a5-88d458b611f0",
   "metadata": {},
   "outputs": [],
   "source": [
    "db = gldb.GenericLinkedDatabase(\n",
    "    {\n",
    "        \"csv\": CSVDatabase(),\n",
    "        \"rdf\": InMemoryRDFDatabase()\n",
    "    }\n",
    ")"
   ]
  },
  {
   "cell_type": "markdown",
   "id": "6a7587bd-288f-48b4-83d1-3bfaafec24c4",
   "metadata": {},
   "source": [
    "Popoulate the stores with data:"
   ]
  },
  {
   "cell_type": "code",
   "execution_count": 7,
   "id": "2c73da78-417f-44f2-8516-b1251946b00b",
   "metadata": {},
   "outputs": [],
   "source": [
    "for filename in pathlib.Path(\"data\").glob('*.jsonld'):\n",
    "    db.stores.rdf.upload_file(filename)"
   ]
  },
  {
   "cell_type": "code",
   "execution_count": 8,
   "id": "42207bf7-3fdc-4205-833d-5455e76f0c46",
   "metadata": {},
   "outputs": [],
   "source": [
    "for filename in pathlib.Path(\"data\").glob('*.csv'):\n",
    "    db.stores.csv.upload_file(filename)"
   ]
  },
  {
   "cell_type": "markdown",
   "id": "f00e901d-b042-434a-89d8-2cf241c8c090",
   "metadata": {},
   "source": [
    "## Query the RDF store\n",
    "\n",
    "Every store as a property `query` which returns the query-object of the store. In case of the already implemented `RDFStore` it is the `SparqlQuery` (also implemented by `gldb`):"
   ]
  },
  {
   "cell_type": "code",
   "execution_count": 9,
   "id": "1465f862-57dd-479d-82cc-bfb3951c8cac",
   "metadata": {},
   "outputs": [
    {
     "data": {
      "text/plain": [
       "SparqlQuery(graph=[a rdfg:Graph;rdflib:storage [a rdflib:Store;rdfs:label 'Memory']].)"
      ]
     },
     "execution_count": 9,
     "metadata": {},
     "output_type": "execute_result"
    }
   ],
   "source": [
    "db.stores.rdf.query"
   ]
  },
  {
   "cell_type": "markdown",
   "id": "09481643-f122-46e4-9aab-07a51579cc28",
   "metadata": {},
   "source": [
    "Let's formulate the SPARQL query string:"
   ]
  },
  {
   "cell_type": "code",
   "execution_count": 10,
   "id": "732a149c-8d05-4500-a74c-fbe5bf2569cf",
   "metadata": {},
   "outputs": [],
   "source": [
    "query_str = \"\"\"\n",
    "PREFIX foaf: <http://xmlns.com/foaf/0.1/>\n",
    "PREFIX dcterm: <http://purl.org/dc/terms/>\n",
    "PREFIX dcat: <http://www.w3.org/ns/dcat#>\n",
    "SELECT * WHERE {\n",
    "    ?file a dcat:Dataset .\n",
    "    ?file dcterm:creator ?person .\n",
    "    ?person a foaf:Person .\n",
    "}\n",
    "\"\"\""
   ]
  },
  {
   "cell_type": "markdown",
   "id": "5d7998ee-b8e3-41bb-aaf4-70f1bf29b44d",
   "metadata": {},
   "source": [
    "Perform the query:"
   ]
  },
  {
   "cell_type": "code",
   "execution_count": 11,
   "id": "ae1fc42c-7e74-4fb2-bc68-06ecd974e6a2",
   "metadata": {},
   "outputs": [
    {
     "data": {
      "text/plain": [
       "QueryResult(\n",
       "  query=SparqlQuery(graph=[a rdfg:Graph;rdflib:storage [a rdflib:Store;rdfs:label 'Memory']].),\n",
       "  data=<rdflib.plugins.sparql.processor.SPARQLResult object at 0x0000015953EE8BB0>,\n",
       "  description=Selecting all persons\n",
       ")"
      ]
     },
     "execution_count": 11,
     "metadata": {},
     "output_type": "execute_result"
    }
   ],
   "source": [
    "res = db.stores.rdf.query(\n",
    "    query=query_str,\n",
    "    description=\"Selecting all persons\")\n",
    "res"
   ]
  },
  {
   "cell_type": "code",
   "execution_count": 12,
   "id": "79fa06f5-c1c2-463c-bae9-c1419fd31617",
   "metadata": {},
   "outputs": [
    {
     "name": "stdout",
     "output_type": "stream",
     "text": [
      "{rdflib.term.Variable('file'): rdflib.term.URIRef('file:temperature.csv'), rdflib.term.Variable('person'): rdflib.term.URIRef('https://example.org/Nbf69432ebd3d49e3abdcfd104b91ca08')}\n"
     ]
    }
   ],
   "source": [
    "for row in res.data.bindings:\n",
    "    print(row)"
   ]
  },
  {
   "cell_type": "markdown",
   "id": "05dfeb4e-e1ce-421a-ac49-7dec0a2b5419",
   "metadata": {},
   "source": [
    "## Query the CSV store"
   ]
  },
  {
   "cell_type": "code",
   "execution_count": 19,
   "id": "86c4da91-191b-4240-91d5-f983b969d85e",
   "metadata": {},
   "outputs": [
    {
     "data": {
      "text/html": [
       "<div>\n",
       "<style scoped>\n",
       "    .dataframe tbody tr th:only-of-type {\n",
       "        vertical-align: middle;\n",
       "    }\n",
       "\n",
       "    .dataframe tbody tr th {\n",
       "        vertical-align: top;\n",
       "    }\n",
       "\n",
       "    .dataframe thead th {\n",
       "        text-align: right;\n",
       "    }\n",
       "</style>\n",
       "<table border=\"1\" class=\"dataframe\">\n",
       "  <thead>\n",
       "    <tr style=\"text-align: right;\">\n",
       "      <th></th>\n",
       "      <th>timestamp</th>\n",
       "      <th>temperature</th>\n",
       "    </tr>\n",
       "  </thead>\n",
       "  <tbody>\n",
       "    <tr>\n",
       "      <th>4</th>\n",
       "      <td>2024-01-01 04:00</td>\n",
       "      <td>23.2</td>\n",
       "    </tr>\n",
       "    <tr>\n",
       "      <th>5</th>\n",
       "      <td>2024-01-01 05:00</td>\n",
       "      <td>23.8</td>\n",
       "    </tr>\n",
       "    <tr>\n",
       "      <th>6</th>\n",
       "      <td>2024-01-01 06:00</td>\n",
       "      <td>24.9</td>\n",
       "    </tr>\n",
       "    <tr>\n",
       "      <th>7</th>\n",
       "      <td>2024-01-01 07:00</td>\n",
       "      <td>25.5</td>\n",
       "    </tr>\n",
       "    <tr>\n",
       "      <th>8</th>\n",
       "      <td>2024-01-01 08:00</td>\n",
       "      <td>24.0</td>\n",
       "    </tr>\n",
       "  </tbody>\n",
       "</table>\n",
       "</div>"
      ],
      "text/plain": [
       "          timestamp  temperature\n",
       "4  2024-01-01 04:00         23.2\n",
       "5  2024-01-01 05:00         23.8\n",
       "6  2024-01-01 06:00         24.9\n",
       "7  2024-01-01 07:00         25.5\n",
       "8  2024-01-01 08:00         24.0"
      ]
     },
     "execution_count": 19,
     "metadata": {},
     "output_type": "execute_result"
    }
   ],
   "source": [
    "csv_res = db.stores.csv.query(\"temperature > 23.0\", table=\"temperature\")\n",
    "csv_res.data"
   ]
  },
  {
   "cell_type": "markdown",
   "id": "3b14698c-764b-405a-a44d-57c089261b9f",
   "metadata": {},
   "source": [
    "# Federated queries\n",
    "\n",
    "Since raw temperature data is stored in a different database (store) than the metadata, there is the need to combine the data.\n",
    "\n",
    "This must currently be done using custom functions that return a `FederatedQueryResult`:"
   ]
  },
  {
   "cell_type": "code",
   "execution_count": 48,
   "id": "322044e9-05d9-4f84-aa0c-b09a3052049d",
   "metadata": {},
   "outputs": [],
   "source": [
    "def fetch_temperature_dataset(query, table) -> gldb.query.FederatedQueryResult:\n",
    "    csv_res = db.stores.csv.query(query, table=table)\n",
    "\n",
    "    query_all_metadata_of_temperature = f\"\"\"\n",
    "    PREFIX dcat: <http://www.w3.org/ns/dcat#>\n",
    "    SELECT * WHERE {{\n",
    "        <file:{table}.csv> a dcat:Dataset .\n",
    "        ?s ?p ?o\n",
    "    }}\n",
    "    \"\"\"\n",
    "    rdf_res = db.stores.rdf.query(query=query_all_metadata_of_temperature)\n",
    "    fed_res = gldb.query.FederatedQueryResult(\n",
    "        data=csv_res,\n",
    "        metadata=rdf_res\n",
    "    )\n",
    "    return fed_res"
   ]
  },
  {
   "cell_type": "code",
   "execution_count": 50,
   "id": "d6ae4479-b98c-4e19-9b78-49fd9c0cb8b8",
   "metadata": {},
   "outputs": [],
   "source": [
    "federated_result = fetch_temperature_dataset(query=\"temperature > 23.0\", table=\"temperature\")"
   ]
  },
  {
   "cell_type": "code",
   "execution_count": 51,
   "id": "25b45064-92f9-4f84-a5a2-0c516c6bbc42",
   "metadata": {},
   "outputs": [
    {
     "data": {
      "text/plain": [
       "FederatedQueryResult(data=QueryResult(\n",
       "  query=<__main__.CSVQuery object at 0x00000159554C6350>,\n",
       "  data=          timestamp  temperature\n",
       "4  2024-01-01 04:00         23.2\n",
       "5  2024-01-01 05:00         23.8\n",
       "6  2024-01-01 06:00         24.9\n",
       "7  2024-01-01 07:00         25.5\n",
       "8  2024-01-01 08:00         24.0,\n",
       "  description=None\n",
       "), metadata=QueryResult(\n",
       "  query=SparqlQuery(graph=[a rdfg:Graph;rdflib:storage [a rdflib:Store;rdfs:label 'Memory']].),\n",
       "  data=<rdflib.plugins.sparql.processor.SPARQLResult object at 0x00000159554C69E0>,\n",
       "  description=None\n",
       "))"
      ]
     },
     "execution_count": 51,
     "metadata": {},
     "output_type": "execute_result"
    }
   ],
   "source": [
    "federated_result"
   ]
  },
  {
   "cell_type": "code",
   "execution_count": null,
   "id": "61c9b378-9db9-42d9-91d7-a8f3d718b368",
   "metadata": {},
   "outputs": [],
   "source": []
  }
 ],
 "metadata": {
  "kernelspec": {
   "display_name": "Python 3 (ipykernel)",
   "language": "python",
   "name": "python3"
  },
  "language_info": {
   "codemirror_mode": {
    "name": "ipython",
    "version": 3
   },
   "file_extension": ".py",
   "mimetype": "text/x-python",
   "name": "python",
   "nbconvert_exporter": "python",
   "pygments_lexer": "ipython3",
   "version": "3.10.18"
  }
 },
 "nbformat": 4,
 "nbformat_minor": 5
}
